{
 "cells": [
  {
   "cell_type": "markdown",
   "metadata": {},
   "source": [
    "1. Import modules"
   ]
  },
  {
   "cell_type": "code",
   "execution_count": 2,
   "metadata": {
    "collapsed": true
   },
   "outputs": [],
   "source": [
    "import pandas as pd\n",
    "import numpy as np\n",
    "import os.path\n",
    "import math\n",
    "import random\n",
    "import statistics\n",
    "import datetime\n",
    "import collections\n",
    "import os\n",
    "import nltk\n",
    "from matplotlib import pyplot as plt\n",
    "\n",
    "from sklearn import cluster, linear_model, svm, naive_bayes, neighbors, ensemble\n",
    "from sklearn.feature_extraction.text import CountVectorizer, TfidfVectorizer\n",
    "from sklearn.externals import joblib\n",
    "from sklearn import model_selection\n",
    "from sklearn.model_selection import GridSearchCV, cross_val_score, train_test_split\n",
    "from sklearn.linear_model import Perceptron\n",
    "from sklearn.linear_model import PassiveAggressiveClassifier\n",
    "from sklearn.naive_bayes import BernoulliNB, MultinomialNB\n",
    "from sklearn.neighbors import KNeighborsClassifier\n",
    "from sklearn.neighbors import NearestCentroid"
   ]
  },
  {
   "cell_type": "markdown",
   "metadata": {},
   "source": [
    "2. Load trainingdata"
   ]
  },
  {
   "cell_type": "code",
   "execution_count": 4,
   "metadata": {
    "collapsed": false
   },
   "outputs": [],
   "source": [
    "df = pd.read_csv(\"../raw_data/labeled/test_training.tsv\", sep=\"\\t\", encoding=\"utf-8\", names=[\"text\", \"speech\"])"
   ]
  },
  {
   "cell_type": "markdown",
   "metadata": {
    "collapsed": true
   },
   "source": [
    "3. Prepare trainingdata"
   ]
  },
  {
   "cell_type": "code",
   "execution_count": 5,
   "metadata": {
    "collapsed": false
   },
   "outputs": [
    {
     "data": {
      "text/plain": [
       "['../output/vectorizer/test_vec.pkl']"
      ]
     },
     "execution_count": 5,
     "metadata": {},
     "output_type": "execute_result"
    }
   ],
   "source": [
    "X_raw = df.text.values.astype('U')\n",
    "Y_all = np.array(df.speech)\n",
    "count_vect = CountVectorizer(min_df=1, analyzer=\"word\", token_pattern=\"\\w+|[.,-;:*+!?]\", encoding=\"utf-8\")\n",
    "X_all = count_vect.fit_transform(X_raw)\n",
    "joblib.dump(count_vect, '../output/vectorizer/test_vec.pkl')"
   ]
  },
  {
   "cell_type": "markdown",
   "metadata": {},
   "source": [
    "4. Sample Training data (func)"
   ]
  },
  {
   "cell_type": "code",
   "execution_count": 6,
   "metadata": {
    "collapsed": true
   },
   "outputs": [],
   "source": [
    "def get_sample_data(n):\n",
    "    indx = random.sample(range(len(Y_all)), n)\n",
    "    X_ = X_all[indx]\n",
    "    Y_ = Y_all[indx]\n",
    "    return X_, Y_"
   ]
  },
  {
   "cell_type": "markdown",
   "metadata": {},
   "source": [
    "5. Call sample function"
   ]
  },
  {
   "cell_type": "code",
   "execution_count": 9,
   "metadata": {
    "collapsed": false
   },
   "outputs": [
    {
     "name": "stdout",
     "output_type": "stream",
     "text": [
      "(5, 19)\n"
     ]
    }
   ],
   "source": [
    "X, Y = get_sample_data(5)\n",
    "print(np.shape(X))"
   ]
  },
  {
   "cell_type": "markdown",
   "metadata": {},
   "source": [
    "6. Multinominal Naive Baiyes "
   ]
  },
  {
   "cell_type": "code",
   "execution_count": 10,
   "metadata": {
    "collapsed": false
   },
   "outputs": [
    {
     "name": "stdout",
     "output_type": "stream",
     "text": [
      "Best score: 0.92\n",
      "Best value for alpha: 0.01\n",
      "Best value for fit_prior: True\n"
     ]
    }
   ],
   "source": [
    "clf = naive_bayes.MultinomialNB()\n",
    "\n",
    "#parameter grid\n",
    "alpha = [0.01, .1, 1, 1.5, 1.75, 2, 2.5, 3, 4, 5, 6]\n",
    "fit_prior = [True, False]\n",
    "\n",
    "clf = GridSearchCV(estimator=clf, param_grid=dict(alpha=alpha, fit_prior=fit_prior), n_jobs=-1)\n",
    "clf.fit(X_all, Y_all)\n",
    "print(\"Best score: {}\".format(clf.best_score_))\n",
    "print(\"Best value for alpha: {}\".format(clf.best_estimator_.alpha))\n",
    "print(\"Best value for fit_prior: {}\".format(clf.best_estimator_.fit_prior))"
   ]
  },
  {
   "cell_type": "markdown",
   "metadata": {},
   "source": [
    "7. Save the classifier"
   ]
  },
  {
   "cell_type": "code",
   "execution_count": 12,
   "metadata": {
    "collapsed": false
   },
   "outputs": [
    {
     "name": "stdout",
     "output_type": "stream",
     "text": [
      "Acc (mean): 0.9212962962962963 (std): 0.05594002765553043\n"
     ]
    }
   ],
   "source": [
    "clf = naive_bayes.MultinomialNB(alpha=0.01, fit_prior=True)\n",
    "scores = cross_val_score(clf, X_all, Y_all, cv=3)\n",
    "clf.fit(X_all, Y_all)\n",
    "joblib.dump(clf, '../output/classifier/test_clf.pkl')\n",
    "print(\"Acc (mean): {} (std): {}\".format(scores.mean(), scores.std()))"
   ]
  }
 ],
 "metadata": {
  "anaconda-cloud": {},
  "kernelspec": {
   "display_name": "Python [conda root]",
   "language": "python",
   "name": "conda-root-py"
  },
  "language_info": {
   "codemirror_mode": {
    "name": "ipython",
    "version": 3
   },
   "file_extension": ".py",
   "mimetype": "text/x-python",
   "name": "python",
   "nbconvert_exporter": "python",
   "pygments_lexer": "ipython3",
   "version": "3.5.2"
  }
 },
 "nbformat": 4,
 "nbformat_minor": 1
}
